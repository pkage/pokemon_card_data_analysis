{
 "cells": [
  {
   "cell_type": "markdown",
   "metadata": {},
   "source": [
    "# Lindsey's Pokemon Card Analysis\n",
    "\n",
    "Imported with `nightmare.js` and based on [Mavin](https://mavin.io) ebay price listings. Prices are in cents."
   ]
  },
  {
   "cell_type": "code",
   "execution_count": 1,
   "metadata": {},
   "outputs": [],
   "source": [
    "import sqlite3\n",
    "import pandas as pd\n",
    "import numpy as np\n",
    "import seaborn\n",
    "\n",
    "import matplotlib.pyplot as plt\n",
    "plt.rcParams['figure.figsize'] = [18, 9]\n",
    "plt.rcParams['font.size'] = 18"
   ]
  },
  {
   "cell_type": "code",
   "execution_count": 2,
   "metadata": {},
   "outputs": [],
   "source": [
    "# load the table of completed cards from the database as a dataframe\n",
    "conn = sqlite3.connect('./cards.db')\n",
    "df = pd.read_sql_query(\"SELECT * from Cards WHERE unit_price_avg IS NOT NULL\", conn)\n",
    "conn.close()"
   ]
  },
  {
   "cell_type": "code",
   "execution_count": 3,
   "metadata": {},
   "outputs": [
    {
     "data": {
      "text/html": [
       "<div>\n",
       "<style scoped>\n",
       "    .dataframe tbody tr th:only-of-type {\n",
       "        vertical-align: middle;\n",
       "    }\n",
       "\n",
       "    .dataframe tbody tr th {\n",
       "        vertical-align: top;\n",
       "    }\n",
       "\n",
       "    .dataframe thead th {\n",
       "        text-align: right;\n",
       "    }\n",
       "</style>\n",
       "<table border=\"1\" class=\"dataframe\">\n",
       "  <thead>\n",
       "    <tr style=\"text-align: right;\">\n",
       "      <th></th>\n",
       "      <th>name</th>\n",
       "      <th>identifier</th>\n",
       "      <th>quantity</th>\n",
       "      <th>unknown</th>\n",
       "      <th>url</th>\n",
       "      <th>unit_price_avg</th>\n",
       "      <th>unit_price_min</th>\n",
       "      <th>unit_price_max</th>\n",
       "    </tr>\n",
       "  </thead>\n",
       "  <tbody>\n",
       "    <tr>\n",
       "      <th>0</th>\n",
       "      <td>Parasect</td>\n",
       "      <td>35/64</td>\n",
       "      <td>1</td>\n",
       "      <td>0</td>\n",
       "      <td>https://mavin.io/search?q=Parasect%2035%2F64</td>\n",
       "      <td>892.0</td>\n",
       "      <td>55.0</td>\n",
       "      <td>8311.0</td>\n",
       "    </tr>\n",
       "    <tr>\n",
       "      <th>1</th>\n",
       "      <td>Paras</td>\n",
       "      <td>47/64</td>\n",
       "      <td>1</td>\n",
       "      <td>0</td>\n",
       "      <td>https://mavin.io/search?q=Paras%20%2047%2F64</td>\n",
       "      <td>393.0</td>\n",
       "      <td>25.0</td>\n",
       "      <td>8739.0</td>\n",
       "    </tr>\n",
       "    <tr>\n",
       "      <th>2</th>\n",
       "      <td>Oddish</td>\n",
       "      <td>68/111</td>\n",
       "      <td>3</td>\n",
       "      <td>0</td>\n",
       "      <td>https://mavin.io/search?q=Oddish%2068%2F111</td>\n",
       "      <td>306.0</td>\n",
       "      <td>15.0</td>\n",
       "      <td>1084.0</td>\n",
       "    </tr>\n",
       "    <tr>\n",
       "      <th>3</th>\n",
       "      <td>Erika's Oddish</td>\n",
       "      <td>78/132</td>\n",
       "      <td>1</td>\n",
       "      <td>0</td>\n",
       "      <td>https://mavin.io/search?q=Erika's%20Oddish%207...</td>\n",
       "      <td>452.0</td>\n",
       "      <td>99.0</td>\n",
       "      <td>6200.0</td>\n",
       "    </tr>\n",
       "    <tr>\n",
       "      <th>4</th>\n",
       "      <td>Paras</td>\n",
       "      <td>59/64</td>\n",
       "      <td>1</td>\n",
       "      <td>0</td>\n",
       "      <td>https://mavin.io/search?q=Paras%2059%2F64</td>\n",
       "      <td>506.0</td>\n",
       "      <td>1.0</td>\n",
       "      <td>18995.0</td>\n",
       "    </tr>\n",
       "  </tbody>\n",
       "</table>\n",
       "</div>"
      ],
      "text/plain": [
       "             name identifier  quantity  unknown  \\\n",
       "0        Parasect      35/64         1        0   \n",
       "1          Paras       47/64         1        0   \n",
       "2          Oddish     68/111         3        0   \n",
       "3  Erika's Oddish     78/132         1        0   \n",
       "4           Paras      59/64         1        0   \n",
       "\n",
       "                                                 url  unit_price_avg  \\\n",
       "0       https://mavin.io/search?q=Parasect%2035%2F64           892.0   \n",
       "1       https://mavin.io/search?q=Paras%20%2047%2F64           393.0   \n",
       "2        https://mavin.io/search?q=Oddish%2068%2F111           306.0   \n",
       "3  https://mavin.io/search?q=Erika's%20Oddish%207...           452.0   \n",
       "4          https://mavin.io/search?q=Paras%2059%2F64           506.0   \n",
       "\n",
       "   unit_price_min  unit_price_max  \n",
       "0            55.0          8311.0  \n",
       "1            25.0          8739.0  \n",
       "2            15.0          1084.0  \n",
       "3            99.0          6200.0  \n",
       "4             1.0         18995.0  "
      ]
     },
     "execution_count": 3,
     "metadata": {},
     "output_type": "execute_result"
    }
   ],
   "source": [
    "# check that our dataframe has loaded properly\n",
    "df.head()"
   ]
  },
  {
   "cell_type": "code",
   "execution_count": 4,
   "metadata": {},
   "outputs": [
    {
     "name": "stdout",
     "output_type": "stream",
     "text": [
      "207 rows total.\n"
     ]
    }
   ],
   "source": [
    "print(f'{df.shape[0]} rows total.')"
   ]
  },
  {
   "cell_type": "markdown",
   "metadata": {},
   "source": [
    "## Summary statistics"
   ]
  },
  {
   "cell_type": "code",
   "execution_count": 5,
   "metadata": {},
   "outputs": [
    {
     "name": "stdout",
     "output_type": "stream",
     "text": [
      "\n",
      "Average price: $2474.1\n",
      "Minimum price: $181.21\n",
      "Maximum price: $38695.07\n",
      "\n"
     ]
    }
   ],
   "source": [
    "total_avg_price = sum(df.unit_price_avg * df.quantity)\n",
    "total_min_price = sum(df.unit_price_min * df.quantity)\n",
    "total_max_price = sum(df.unit_price_max * df.quantity)\n",
    "\n",
    "print(f'''\n",
    "Average price: ${total_avg_price/100}\n",
    "Minimum price: ${total_min_price/100}\n",
    "Maximum price: ${total_max_price/100}\n",
    "''')"
   ]
  },
  {
   "cell_type": "code",
   "execution_count": 6,
   "metadata": {},
   "outputs": [
    {
     "name": "stdout",
     "output_type": "stream",
     "text": [
      "Top 10 cards\n"
     ]
    },
    {
     "data": {
      "text/html": [
       "<div>\n",
       "<style scoped>\n",
       "    .dataframe tbody tr th:only-of-type {\n",
       "        vertical-align: middle;\n",
       "    }\n",
       "\n",
       "    .dataframe tbody tr th {\n",
       "        vertical-align: top;\n",
       "    }\n",
       "\n",
       "    .dataframe thead th {\n",
       "        text-align: right;\n",
       "    }\n",
       "</style>\n",
       "<table border=\"1\" class=\"dataframe\">\n",
       "  <thead>\n",
       "    <tr style=\"text-align: right;\">\n",
       "      <th></th>\n",
       "      <th>name</th>\n",
       "      <th>identifier</th>\n",
       "      <th>quantity</th>\n",
       "      <th>unknown</th>\n",
       "      <th>url</th>\n",
       "      <th>unit_price_avg</th>\n",
       "      <th>unit_price_min</th>\n",
       "      <th>unit_price_max</th>\n",
       "    </tr>\n",
       "  </thead>\n",
       "  <tbody>\n",
       "    <tr>\n",
       "      <th>167</th>\n",
       "      <td>eevee</td>\n",
       "      <td>74/110</td>\n",
       "      <td>2</td>\n",
       "      <td>0</td>\n",
       "      <td>https://mavin.io/search?q=eevee%2074%2F110</td>\n",
       "      <td>8151.0</td>\n",
       "      <td>99.0</td>\n",
       "      <td>44999.0</td>\n",
       "    </tr>\n",
       "    <tr>\n",
       "      <th>115</th>\n",
       "      <td>Ninetales</td>\n",
       "      <td>17/110</td>\n",
       "      <td>1</td>\n",
       "      <td>0</td>\n",
       "      <td>https://mavin.io/search?q=Ninetales%2017%2F110</td>\n",
       "      <td>5625.0</td>\n",
       "      <td>425.0</td>\n",
       "      <td>32995.0</td>\n",
       "    </tr>\n",
       "    <tr>\n",
       "      <th>131</th>\n",
       "      <td>Dark Houndoom</td>\n",
       "      <td>7/105</td>\n",
       "      <td>1</td>\n",
       "      <td>0</td>\n",
       "      <td>https://mavin.io/search?q=Dark%20Houndoom%207%...</td>\n",
       "      <td>5292.0</td>\n",
       "      <td>99.0</td>\n",
       "      <td>71000.0</td>\n",
       "    </tr>\n",
       "    <tr>\n",
       "      <th>114</th>\n",
       "      <td>vulpix</td>\n",
       "      <td>98/110</td>\n",
       "      <td>2</td>\n",
       "      <td>0</td>\n",
       "      <td>https://mavin.io/search?q=vulpix%2098%2F110</td>\n",
       "      <td>5053.0</td>\n",
       "      <td>275.0</td>\n",
       "      <td>21495.0</td>\n",
       "    </tr>\n",
       "    <tr>\n",
       "      <th>138</th>\n",
       "      <td>magneton</td>\n",
       "      <td>28/110</td>\n",
       "      <td>1</td>\n",
       "      <td>0</td>\n",
       "      <td>https://mavin.io/search?q=magneton%2028%2F110</td>\n",
       "      <td>3328.0</td>\n",
       "      <td>99.0</td>\n",
       "      <td>13399.0</td>\n",
       "    </tr>\n",
       "    <tr>\n",
       "      <th>127</th>\n",
       "      <td>electrode</td>\n",
       "      <td>22/110</td>\n",
       "      <td>1</td>\n",
       "      <td>0</td>\n",
       "      <td>https://mavin.io/search?q=electrode%2022%2F110</td>\n",
       "      <td>3284.0</td>\n",
       "      <td>99.0</td>\n",
       "      <td>33149.0</td>\n",
       "    </tr>\n",
       "    <tr>\n",
       "      <th>60</th>\n",
       "      <td>Politoed</td>\n",
       "      <td>8/75</td>\n",
       "      <td>1</td>\n",
       "      <td>0</td>\n",
       "      <td>https://mavin.io/search?q=Politoed%208%2F75</td>\n",
       "      <td>3127.0</td>\n",
       "      <td>500.0</td>\n",
       "      <td>22750.0</td>\n",
       "    </tr>\n",
       "    <tr>\n",
       "      <th>29</th>\n",
       "      <td>Nidorino</td>\n",
       "      <td>56/110</td>\n",
       "      <td>1</td>\n",
       "      <td>0</td>\n",
       "      <td>https://mavin.io/search?q=Nidorino%2056%2F110</td>\n",
       "      <td>3108.0</td>\n",
       "      <td>89.0</td>\n",
       "      <td>40000.0</td>\n",
       "    </tr>\n",
       "    <tr>\n",
       "      <th>159</th>\n",
       "      <td>Unknown B</td>\n",
       "      <td>39/64</td>\n",
       "      <td>1</td>\n",
       "      <td>0</td>\n",
       "      <td>https://mavin.io/search?q=Unknown%20B%2039%2F64</td>\n",
       "      <td>2911.0</td>\n",
       "      <td>200.0</td>\n",
       "      <td>7990.0</td>\n",
       "    </tr>\n",
       "    <tr>\n",
       "      <th>166</th>\n",
       "      <td>raticate</td>\n",
       "      <td>61/110</td>\n",
       "      <td>1</td>\n",
       "      <td>0</td>\n",
       "      <td>https://mavin.io/search?q=raticate%2061%2F110</td>\n",
       "      <td>2803.0</td>\n",
       "      <td>99.0</td>\n",
       "      <td>4313.0</td>\n",
       "    </tr>\n",
       "  </tbody>\n",
       "</table>\n",
       "</div>"
      ],
      "text/plain": [
       "              name identifier  quantity  unknown  \\\n",
       "167          eevee     74/110         2        0   \n",
       "115      Ninetales     17/110         1        0   \n",
       "131  Dark Houndoom      7/105         1        0   \n",
       "114         vulpix     98/110         2        0   \n",
       "138       magneton     28/110         1        0   \n",
       "127      electrode     22/110         1        0   \n",
       "60        Politoed       8/75         1        0   \n",
       "29        Nidorino     56/110         1        0   \n",
       "159      Unknown B      39/64         1        0   \n",
       "166       raticate     61/110         1        0   \n",
       "\n",
       "                                                   url  unit_price_avg  \\\n",
       "167         https://mavin.io/search?q=eevee%2074%2F110          8151.0   \n",
       "115     https://mavin.io/search?q=Ninetales%2017%2F110          5625.0   \n",
       "131  https://mavin.io/search?q=Dark%20Houndoom%207%...          5292.0   \n",
       "114        https://mavin.io/search?q=vulpix%2098%2F110          5053.0   \n",
       "138      https://mavin.io/search?q=magneton%2028%2F110          3328.0   \n",
       "127     https://mavin.io/search?q=electrode%2022%2F110          3284.0   \n",
       "60         https://mavin.io/search?q=Politoed%208%2F75          3127.0   \n",
       "29       https://mavin.io/search?q=Nidorino%2056%2F110          3108.0   \n",
       "159    https://mavin.io/search?q=Unknown%20B%2039%2F64          2911.0   \n",
       "166      https://mavin.io/search?q=raticate%2061%2F110          2803.0   \n",
       "\n",
       "     unit_price_min  unit_price_max  \n",
       "167            99.0         44999.0  \n",
       "115           425.0         32995.0  \n",
       "131            99.0         71000.0  \n",
       "114           275.0         21495.0  \n",
       "138            99.0         13399.0  \n",
       "127            99.0         33149.0  \n",
       "60            500.0         22750.0  \n",
       "29             89.0         40000.0  \n",
       "159           200.0          7990.0  \n",
       "166            99.0          4313.0  "
      ]
     },
     "execution_count": 6,
     "metadata": {},
     "output_type": "execute_result"
    }
   ],
   "source": [
    "# Top 10 cards\n",
    "print('Top 10 cards')\n",
    "df.sort_values('unit_price_avg', ascending=False).head(10)"
   ]
  },
  {
   "cell_type": "code",
   "execution_count": 7,
   "metadata": {},
   "outputs": [
    {
     "name": "stdout",
     "output_type": "stream",
     "text": [
      "Bottom 10 cards\n"
     ]
    },
    {
     "data": {
      "text/html": [
       "<div>\n",
       "<style scoped>\n",
       "    .dataframe tbody tr th:only-of-type {\n",
       "        vertical-align: middle;\n",
       "    }\n",
       "\n",
       "    .dataframe tbody tr th {\n",
       "        vertical-align: top;\n",
       "    }\n",
       "\n",
       "    .dataframe thead th {\n",
       "        text-align: right;\n",
       "    }\n",
       "</style>\n",
       "<table border=\"1\" class=\"dataframe\">\n",
       "  <thead>\n",
       "    <tr style=\"text-align: right;\">\n",
       "      <th></th>\n",
       "      <th>name</th>\n",
       "      <th>identifier</th>\n",
       "      <th>quantity</th>\n",
       "      <th>unknown</th>\n",
       "      <th>url</th>\n",
       "      <th>unit_price_avg</th>\n",
       "      <th>unit_price_min</th>\n",
       "      <th>unit_price_max</th>\n",
       "    </tr>\n",
       "  </thead>\n",
       "  <tbody>\n",
       "    <tr>\n",
       "      <th>183</th>\n",
       "      <td>farfetch'd</td>\n",
       "      <td>40/130</td>\n",
       "      <td>1</td>\n",
       "      <td>0</td>\n",
       "      <td>https://mavin.io/search?q=farfetch'd%2040%2F130</td>\n",
       "      <td>230.0</td>\n",
       "      <td>1.0</td>\n",
       "      <td>4307.0</td>\n",
       "    </tr>\n",
       "    <tr>\n",
       "      <th>77</th>\n",
       "      <td>Sandshrew</td>\n",
       "      <td>91/130</td>\n",
       "      <td>1</td>\n",
       "      <td>0</td>\n",
       "      <td>https://mavin.io/search?q=Sandshrew%2091%2F130</td>\n",
       "      <td>245.0</td>\n",
       "      <td>29.0</td>\n",
       "      <td>3270.0</td>\n",
       "    </tr>\n",
       "    <tr>\n",
       "      <th>173</th>\n",
       "      <td>Fuschia City Gym</td>\n",
       "      <td>114/132</td>\n",
       "      <td>1</td>\n",
       "      <td>0</td>\n",
       "      <td>https://mavin.io/search?q=Fuschia%20City%20Gym...</td>\n",
       "      <td>281.0</td>\n",
       "      <td>99.0</td>\n",
       "      <td>99.0</td>\n",
       "    </tr>\n",
       "    <tr>\n",
       "      <th>63</th>\n",
       "      <td>Quagsire</td>\n",
       "      <td>48/64</td>\n",
       "      <td>1</td>\n",
       "      <td>0</td>\n",
       "      <td>https://mavin.io/search?q=Quagsire%2048%2F64</td>\n",
       "      <td>284.0</td>\n",
       "      <td>1.0</td>\n",
       "      <td>9950.0</td>\n",
       "    </tr>\n",
       "    <tr>\n",
       "      <th>15</th>\n",
       "      <td>Zubat</td>\n",
       "      <td>70/82</td>\n",
       "      <td>1</td>\n",
       "      <td>0</td>\n",
       "      <td>https://mavin.io/search?q=Zubat%20%2070%2F82</td>\n",
       "      <td>294.0</td>\n",
       "      <td>1.0</td>\n",
       "      <td>6700.0</td>\n",
       "    </tr>\n",
       "    <tr>\n",
       "      <th>160</th>\n",
       "      <td>Unknown L</td>\n",
       "      <td>86/105</td>\n",
       "      <td>2</td>\n",
       "      <td>0</td>\n",
       "      <td>https://mavin.io/search?q=Unknown%20L%2086%2F105</td>\n",
       "      <td>299.0</td>\n",
       "      <td>299.0</td>\n",
       "      <td>299.0</td>\n",
       "    </tr>\n",
       "    <tr>\n",
       "      <th>180</th>\n",
       "      <td>professor elm</td>\n",
       "      <td>96/111</td>\n",
       "      <td>1</td>\n",
       "      <td>0</td>\n",
       "      <td>https://mavin.io/search?q=professor%20elm%2096...</td>\n",
       "      <td>306.0</td>\n",
       "      <td>1.0</td>\n",
       "      <td>707.0</td>\n",
       "    </tr>\n",
       "    <tr>\n",
       "      <th>2</th>\n",
       "      <td>Oddish</td>\n",
       "      <td>68/111</td>\n",
       "      <td>3</td>\n",
       "      <td>0</td>\n",
       "      <td>https://mavin.io/search?q=Oddish%2068%2F111</td>\n",
       "      <td>306.0</td>\n",
       "      <td>15.0</td>\n",
       "      <td>1084.0</td>\n",
       "    </tr>\n",
       "    <tr>\n",
       "      <th>185</th>\n",
       "      <td>Energy Search</td>\n",
       "      <td>59/62</td>\n",
       "      <td>1</td>\n",
       "      <td>0</td>\n",
       "      <td>https://mavin.io/search?q=Energy%20Search%2059...</td>\n",
       "      <td>306.0</td>\n",
       "      <td>1.0</td>\n",
       "      <td>7499.0</td>\n",
       "    </tr>\n",
       "    <tr>\n",
       "      <th>94</th>\n",
       "      <td>Machop</td>\n",
       "      <td>59/82</td>\n",
       "      <td>1</td>\n",
       "      <td>0</td>\n",
       "      <td>https://mavin.io/search?q=Machop%2059%2F82</td>\n",
       "      <td>308.0</td>\n",
       "      <td>10.0</td>\n",
       "      <td>9000.0</td>\n",
       "    </tr>\n",
       "  </tbody>\n",
       "</table>\n",
       "</div>"
      ],
      "text/plain": [
       "                 name identifier  quantity  unknown  \\\n",
       "183        farfetch'd     40/130         1        0   \n",
       "77          Sandshrew     91/130         1        0   \n",
       "173  Fuschia City Gym    114/132         1        0   \n",
       "63           Quagsire      48/64         1        0   \n",
       "15             Zubat       70/82         1        0   \n",
       "160         Unknown L     86/105         2        0   \n",
       "180     professor elm     96/111         1        0   \n",
       "2              Oddish     68/111         3        0   \n",
       "185     Energy Search      59/62         1        0   \n",
       "94             Machop      59/82         1        0   \n",
       "\n",
       "                                                   url  unit_price_avg  \\\n",
       "183    https://mavin.io/search?q=farfetch'd%2040%2F130           230.0   \n",
       "77      https://mavin.io/search?q=Sandshrew%2091%2F130           245.0   \n",
       "173  https://mavin.io/search?q=Fuschia%20City%20Gym...           281.0   \n",
       "63        https://mavin.io/search?q=Quagsire%2048%2F64           284.0   \n",
       "15        https://mavin.io/search?q=Zubat%20%2070%2F82           294.0   \n",
       "160   https://mavin.io/search?q=Unknown%20L%2086%2F105           299.0   \n",
       "180  https://mavin.io/search?q=professor%20elm%2096...           306.0   \n",
       "2          https://mavin.io/search?q=Oddish%2068%2F111           306.0   \n",
       "185  https://mavin.io/search?q=Energy%20Search%2059...           306.0   \n",
       "94          https://mavin.io/search?q=Machop%2059%2F82           308.0   \n",
       "\n",
       "     unit_price_min  unit_price_max  \n",
       "183             1.0          4307.0  \n",
       "77             29.0          3270.0  \n",
       "173            99.0            99.0  \n",
       "63              1.0          9950.0  \n",
       "15              1.0          6700.0  \n",
       "160           299.0           299.0  \n",
       "180             1.0           707.0  \n",
       "2              15.0          1084.0  \n",
       "185             1.0          7499.0  \n",
       "94             10.0          9000.0  "
      ]
     },
     "execution_count": 7,
     "metadata": {},
     "output_type": "execute_result"
    }
   ],
   "source": [
    "# Bottom 10 cards\n",
    "print('Bottom 10 cards')\n",
    "df.sort_values('unit_price_avg', ascending=True).head(10)"
   ]
  },
  {
   "cell_type": "code",
   "execution_count": 8,
   "metadata": {},
   "outputs": [
    {
     "data": {
      "text/html": [
       "<div>\n",
       "<style scoped>\n",
       "    .dataframe tbody tr th:only-of-type {\n",
       "        vertical-align: middle;\n",
       "    }\n",
       "\n",
       "    .dataframe tbody tr th {\n",
       "        vertical-align: top;\n",
       "    }\n",
       "\n",
       "    .dataframe thead th {\n",
       "        text-align: right;\n",
       "    }\n",
       "</style>\n",
       "<table border=\"1\" class=\"dataframe\">\n",
       "  <thead>\n",
       "    <tr style=\"text-align: right;\">\n",
       "      <th></th>\n",
       "      <th>quantity</th>\n",
       "      <th>unknown</th>\n",
       "      <th>unit_price_avg</th>\n",
       "      <th>unit_price_min</th>\n",
       "      <th>unit_price_max</th>\n",
       "    </tr>\n",
       "  </thead>\n",
       "  <tbody>\n",
       "    <tr>\n",
       "      <th>count</th>\n",
       "      <td>207.000000</td>\n",
       "      <td>207.0</td>\n",
       "      <td>207.000000</td>\n",
       "      <td>207.000000</td>\n",
       "      <td>207.000000</td>\n",
       "    </tr>\n",
       "    <tr>\n",
       "      <th>mean</th>\n",
       "      <td>1.178744</td>\n",
       "      <td>0.0</td>\n",
       "      <td>985.777778</td>\n",
       "      <td>80.478261</td>\n",
       "      <td>15345.304348</td>\n",
       "    </tr>\n",
       "    <tr>\n",
       "      <th>std</th>\n",
       "      <td>0.567683</td>\n",
       "      <td>0.0</td>\n",
       "      <td>983.231999</td>\n",
       "      <td>136.144477</td>\n",
       "      <td>14459.981144</td>\n",
       "    </tr>\n",
       "    <tr>\n",
       "      <th>min</th>\n",
       "      <td>1.000000</td>\n",
       "      <td>0.0</td>\n",
       "      <td>230.000000</td>\n",
       "      <td>1.000000</td>\n",
       "      <td>99.000000</td>\n",
       "    </tr>\n",
       "    <tr>\n",
       "      <th>25%</th>\n",
       "      <td>1.000000</td>\n",
       "      <td>0.0</td>\n",
       "      <td>411.000000</td>\n",
       "      <td>8.000000</td>\n",
       "      <td>6000.000000</td>\n",
       "    </tr>\n",
       "    <tr>\n",
       "      <th>50%</th>\n",
       "      <td>1.000000</td>\n",
       "      <td>0.0</td>\n",
       "      <td>647.000000</td>\n",
       "      <td>55.000000</td>\n",
       "      <td>10250.000000</td>\n",
       "    </tr>\n",
       "    <tr>\n",
       "      <th>75%</th>\n",
       "      <td>1.000000</td>\n",
       "      <td>0.0</td>\n",
       "      <td>1203.000000</td>\n",
       "      <td>99.000000</td>\n",
       "      <td>21272.500000</td>\n",
       "    </tr>\n",
       "    <tr>\n",
       "      <th>max</th>\n",
       "      <td>6.000000</td>\n",
       "      <td>0.0</td>\n",
       "      <td>8151.000000</td>\n",
       "      <td>1499.000000</td>\n",
       "      <td>85000.000000</td>\n",
       "    </tr>\n",
       "  </tbody>\n",
       "</table>\n",
       "</div>"
      ],
      "text/plain": [
       "         quantity  unknown  unit_price_avg  unit_price_min  unit_price_max\n",
       "count  207.000000    207.0      207.000000      207.000000      207.000000\n",
       "mean     1.178744      0.0      985.777778       80.478261    15345.304348\n",
       "std      0.567683      0.0      983.231999      136.144477    14459.981144\n",
       "min      1.000000      0.0      230.000000        1.000000       99.000000\n",
       "25%      1.000000      0.0      411.000000        8.000000     6000.000000\n",
       "50%      1.000000      0.0      647.000000       55.000000    10250.000000\n",
       "75%      1.000000      0.0     1203.000000       99.000000    21272.500000\n",
       "max      6.000000      0.0     8151.000000     1499.000000    85000.000000"
      ]
     },
     "execution_count": 8,
     "metadata": {},
     "output_type": "execute_result"
    }
   ],
   "source": [
    "df.describe()"
   ]
  },
  {
   "cell_type": "markdown",
   "metadata": {},
   "source": [
    "## Price Histograms"
   ]
  },
  {
   "cell_type": "markdown",
   "metadata": {},
   "source": [
    "### Average price"
   ]
  },
  {
   "cell_type": "code",
   "execution_count": 9,
   "metadata": {},
   "outputs": [
    {
     "data": {
      "text/plain": [
       "<AxesSubplot:xlabel='unit_price_avg', ylabel='Count'>"
      ]
     },
     "execution_count": 9,
     "metadata": {},
     "output_type": "execute_result"
    },
    {
     "data": {
      "image/png": "[encoded data removed]",
      "text/plain": [
       "<Figure size 1296x648 with 1 Axes>"
      ]
     },
     "metadata": {
      "needs_background": "light"
     },
     "output_type": "display_data"
    }
   ],
   "source": [
    "seaborn.histplot(df.unit_price_avg/100, bins=100)"
   ]
  },
  {
   "cell_type": "markdown",
   "metadata": {},
   "source": [
    "### Min price"
   ]
  },
  {
   "cell_type": "code",
   "execution_count": 10,
   "metadata": {},
   "outputs": [
    {
     "data": {
      "text/plain": [
       "<AxesSubplot:xlabel='unit_price_min', ylabel='Count'>"
      ]
     },
     "execution_count": 10,
     "metadata": {},
     "output_type": "execute_result"
    },
    {
     "data": {
      "image/png": "[encoded data removed]",
      "text/plain": [
       "<Figure size 1296x648 with 1 Axes>"
      ]
     },
     "metadata": {
      "needs_background": "light"
     },
     "output_type": "display_data"
    }
   ],
   "source": [
    "seaborn.histplot(df.unit_price_min/100, bins=100)"
   ]
  },
  {
   "cell_type": "markdown",
   "metadata": {},
   "source": [
    "### Max price"
   ]
  },
  {
   "cell_type": "code",
   "execution_count": 11,
   "metadata": {},
   "outputs": [
    {
     "data": {
      "text/plain": [
       "<AxesSubplot:xlabel='unit_price_max', ylabel='Count'>"
      ]
     },
     "execution_count": 11,
     "metadata": {},
     "output_type": "execute_result"
    },
    {
     "data": {
      "image/png": "[encoded data removed]",
      "text/plain": [
       "<Figure size 1296x648 with 1 Axes>"
      ]
     },
     "metadata": {
      "needs_background": "light"
     },
     "output_type": "display_data"
    }
   ],
   "source": [
    "seaborn.histplot(df.unit_price_max/100, bins=100)"
   ]
  },
  {
   "cell_type": "code",
   "execution_count": null,
   "metadata": {},
   "outputs": [],
   "source": []
  }
 ],
 "metadata": {
  "kernelspec": {
   "display_name": "data_science",
   "language": "python",
   "name": "data_science"
  },
  "language_info": {
   "codemirror_mode": {
    "name": "ipython",
    "version": 3
   },
   "file_extension": ".py",
   "mimetype": "text/x-python",
   "name": "python",
   "nbconvert_exporter": "python",
   "pygments_lexer": "ipython3",
   "version": "3.8.2"
  }
 },
 "nbformat": 4,
 "nbformat_minor": 4
}
